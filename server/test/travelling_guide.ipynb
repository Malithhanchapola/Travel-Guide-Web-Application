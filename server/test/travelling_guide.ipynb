{
 "cells": [
  {
   "cell_type": "code",
   "execution_count": 1,
   "metadata": {},
   "outputs": [],
   "source": [
    "from travelling_guide import TravelGuide"
   ]
  },
  {
   "cell_type": "code",
   "execution_count": 2,
   "metadata": {},
   "outputs": [],
   "source": [
    "guide = TravelGuide()"
   ]
  },
  {
   "cell_type": "code",
   "execution_count": 3,
   "metadata": {},
   "outputs": [],
   "source": [
    "# show 1st question - Destination category\n",
    "\n",
    "\n",
    "# get the answer from 1st question and provide to the object - Destination category\n",
    "guide.setDestinationCategory(\"Beach paradise\")      \n",
    "\n",
    "# get related locations from the object and send to the front end to show locations for the 2nd question\n",
    "category_locations = guide.getCategoryLocations()\n",
    "\n",
    "# get the answer from the 2nd question and provide to the object - Destination area\n",
    "guide.setCategoryLocation(\"Unawatuna Beach\")\n",
    "\n",
    "# get the answer from the 3rd question and provide to the object - Accomodation type\n",
    "guide.setAccomodationCategory(\"Bangalows\")\n",
    "\n",
    "# get picked and recommended locations, accomodations, transportations, hospitals and police stations from the object and send to the front end to show in cards\n",
    "picked, recommended = guide.getRecommendedLocations()\n",
    "accomodations = guide.getRecommendedAccomodations()\n",
    "transportations = guide.getRecommendedTransportations()\n",
    "hospitals = guide.getRecommendedHospitals()\n",
    "police_stations = guide.getRecommendedPoliceStations()"
   ]
  },
  {
   "cell_type": "code",
   "execution_count": 4,
   "metadata": {},
   "outputs": [
    {
     "data": {
      "text/html": [
       "<div>\n",
       "<style scoped>\n",
       "    .dataframe tbody tr th:only-of-type {\n",
       "        vertical-align: middle;\n",
       "    }\n",
       "\n",
       "    .dataframe tbody tr th {\n",
       "        vertical-align: top;\n",
       "    }\n",
       "\n",
       "    .dataframe thead th {\n",
       "        text-align: right;\n",
       "    }\n",
       "</style>\n",
       "<table border=\"1\" class=\"dataframe\">\n",
       "  <thead>\n",
       "    <tr style=\"text-align: right;\">\n",
       "      <th></th>\n",
       "      <th>Province</th>\n",
       "      <th>Division</th>\n",
       "      <th>Police Station</th>\n",
       "      <th>Contact</th>\n",
       "      <th>Latitude</th>\n",
       "      <th>Longitude</th>\n",
       "    </tr>\n",
       "  </thead>\n",
       "  <tbody>\n",
       "    <tr>\n",
       "      <th>17</th>\n",
       "      <td>Southern Province</td>\n",
       "      <td>Galle Police Division</td>\n",
       "      <td>Galle</td>\n",
       "      <td>091-2234962</td>\n",
       "      <td>6.032957</td>\n",
       "      <td>80.218299</td>\n",
       "    </tr>\n",
       "  </tbody>\n",
       "</table>\n",
       "</div>"
      ],
      "text/plain": [
       "             Province               Division Police Station      Contact  \\\n",
       "17  Southern Province  Galle Police Division          Galle  091-2234962   \n",
       "\n",
       "    Latitude  Longitude  \n",
       "17  6.032957  80.218299  "
      ]
     },
     "execution_count": 4,
     "metadata": {},
     "output_type": "execute_result"
    }
   ],
   "source": [
    "police_stations"
   ]
  }
 ],
 "metadata": {
  "kernelspec": {
   "display_name": "Python 3",
   "language": "python",
   "name": "python3"
  },
  "language_info": {
   "codemirror_mode": {
    "name": "ipython",
    "version": 3
   },
   "file_extension": ".py",
   "mimetype": "text/x-python",
   "name": "python",
   "nbconvert_exporter": "python",
   "pygments_lexer": "ipython3",
   "version": "3.11.4"
  }
 },
 "nbformat": 4,
 "nbformat_minor": 2
}
